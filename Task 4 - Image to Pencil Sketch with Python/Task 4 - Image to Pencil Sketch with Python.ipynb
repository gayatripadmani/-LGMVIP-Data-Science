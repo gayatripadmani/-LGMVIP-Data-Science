{
 "cells": [
  {
   "cell_type": "markdown",
   "id": "adf61b00",
   "metadata": {},
   "source": [
    "# Task 4 - Image to Pencil Sketch with Python\n",
    "\n",
    "***Problem Statement :***\n",
    "\n",
    "<img src=\"Screenshot 2023-03-30 113918.png\" width=\"500\">"
   ]
  },
  {
   "cell_type": "code",
   "execution_count": null,
   "id": "2517e74a",
   "metadata": {},
   "outputs": [],
   "source": []
  },
  {
   "cell_type": "markdown",
   "id": "e9e9d4bc",
   "metadata": {},
   "source": [
    "### Import all the libraries"
   ]
  },
  {
   "cell_type": "code",
   "execution_count": 1,
   "id": "1cca548c",
   "metadata": {},
   "outputs": [],
   "source": [
    "import cv2"
   ]
  },
  {
   "cell_type": "markdown",
   "id": "cfa9fde2",
   "metadata": {},
   "source": [
    "### read the images"
   ]
  },
  {
   "cell_type": "code",
   "execution_count": 2,
   "id": "0d6f9483",
   "metadata": {},
   "outputs": [],
   "source": [
    "image = cv2.imread(\"img_girl.jpg\")"
   ]
  },
  {
   "cell_type": "markdown",
   "id": "2136117a",
   "metadata": {},
   "source": [
    "### show the image"
   ]
  },
  {
   "cell_type": "code",
   "execution_count": 3,
   "id": "d88f4b9e",
   "metadata": {},
   "outputs": [
    {
     "data": {
      "text/plain": [
       "-1"
      ]
     },
     "execution_count": 3,
     "metadata": {},
     "output_type": "execute_result"
    }
   ],
   "source": [
    "cv2.imshow(\"Image Girl\", image)\n",
    "cv2.waitKey(0)"
   ]
  },
  {
   "cell_type": "markdown",
   "id": "9a0457a8",
   "metadata": {},
   "source": [
    "### convert the image to gray scale"
   ]
  },
  {
   "cell_type": "code",
   "execution_count": 4,
   "id": "a349317a",
   "metadata": {},
   "outputs": [
    {
     "data": {
      "text/plain": [
       "-1"
      ]
     },
     "execution_count": 4,
     "metadata": {},
     "output_type": "execute_result"
    }
   ],
   "source": [
    "# gray_image = cv2.cvtColor(img, cv2.COLOR_BGR2GRAY)\n",
    "\n",
    "gray_image = cv2.cvtColor(image, cv2.COLOR_BGR2GRAY)\n",
    "cv2.imshow(\"New Dog\", gray_image)\n",
    "cv2.waitKey(0)"
   ]
  },
  {
   "cell_type": "markdown",
   "id": "1f18f493",
   "metadata": {},
   "source": [
    "### invert the image"
   ]
  },
  {
   "cell_type": "code",
   "execution_count": 5,
   "id": "376dc25c",
   "metadata": {},
   "outputs": [],
   "source": [
    "inverted_gray_image = 255 - gray_image"
   ]
  },
  {
   "cell_type": "markdown",
   "id": "bf69af7e",
   "metadata": {},
   "source": [
    "### blur the image by gaussian blur"
   ]
  },
  {
   "cell_type": "code",
   "execution_count": 6,
   "id": "882dfb03",
   "metadata": {},
   "outputs": [],
   "source": [
    "blurred_image = cv2.GaussianBlur(inverted_gray_image, (21, 21), 0)"
   ]
  },
  {
   "cell_type": "markdown",
   "id": "a92719be",
   "metadata": {},
   "source": [
    "### invert the blurred image"
   ]
  },
  {
   "cell_type": "code",
   "execution_count": 7,
   "id": "30bf4291",
   "metadata": {},
   "outputs": [],
   "source": [
    "inverted_blurred_image = 255 - blurred_image"
   ]
  },
  {
   "cell_type": "markdown",
   "id": "99ab61a9",
   "metadata": {},
   "source": [
    "### create the pencil sketch image"
   ]
  },
  {
   "cell_type": "code",
   "execution_count": 8,
   "id": "89404cb5",
   "metadata": {},
   "outputs": [],
   "source": [
    "pencil_sketch_image = cv2.divide(gray_image, inverted_blurred_image, scale = 256.0)"
   ]
  },
  {
   "cell_type": "markdown",
   "id": "b0d35f10",
   "metadata": {},
   "source": [
    "### show the image"
   ]
  },
  {
   "cell_type": "code",
   "execution_count": 9,
   "id": "f8e15aeb",
   "metadata": {},
   "outputs": [
    {
     "data": {
      "text/plain": [
       "-1"
      ]
     },
     "execution_count": 9,
     "metadata": {},
     "output_type": "execute_result"
    }
   ],
   "source": [
    "cv2.imshow('Sketch Image Girl', pencil_sketch_image)\n",
    "cv2.waitKey(0)"
   ]
  },
  {
   "cell_type": "code",
   "execution_count": 10,
   "id": "ee24edf5",
   "metadata": {},
   "outputs": [
    {
     "data": {
      "text/plain": [
       "True"
      ]
     },
     "execution_count": 10,
     "metadata": {},
     "output_type": "execute_result"
    }
   ],
   "source": [
    "cv2.imwrite(\"Sketch Image Girl.png\", pencil_sketch_image)  # converted image is saved as mentioned name"
   ]
  },
  {
   "cell_type": "code",
   "execution_count": null,
   "id": "d890d490",
   "metadata": {},
   "outputs": [],
   "source": []
  }
 ],
 "metadata": {
  "kernelspec": {
   "display_name": "Python 3 (ipykernel)",
   "language": "python",
   "name": "python3"
  },
  "language_info": {
   "codemirror_mode": {
    "name": "ipython",
    "version": 3
   },
   "file_extension": ".py",
   "mimetype": "text/x-python",
   "name": "python",
   "nbconvert_exporter": "python",
   "pygments_lexer": "ipython3",
   "version": "3.10.9"
  }
 },
 "nbformat": 4,
 "nbformat_minor": 5
}
